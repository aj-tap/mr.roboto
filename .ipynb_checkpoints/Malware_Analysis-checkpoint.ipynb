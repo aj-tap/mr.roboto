{
 "cells": [
  {
   "cell_type": "markdown",
   "id": "80ec6f00",
   "metadata": {},
   "source": [
    "## Setup"
   ]
  },
  {
   "cell_type": "markdown",
   "id": "79ee26a0",
   "metadata": {},
   "source": [
    "### Libraries"
   ]
  },
  {
   "cell_type": "code",
   "execution_count": 1,
   "id": "e1a69ffe",
   "metadata": {},
   "outputs": [],
   "source": [
    "from scripts import Triage"
   ]
  },
  {
   "cell_type": "markdown",
   "id": "36173ea7",
   "metadata": {},
   "source": [
    "### Object Declaration"
   ]
  },
  {
   "cell_type": "code",
   "execution_count": 2,
   "id": "964a8065",
   "metadata": {},
   "outputs": [],
   "source": [
    "# samples = Triage.Analysis(vt_api=\"<INSERT API KEY\")\n",
    "samples = Triage.Samples(vt_api=\"f3dd29d283e7551ba7862ae5635db2d1237f3523d384305cfd00c15b55543b57\")\n",
    "samples.getFiles()"
   ]
  },
  {
   "cell_type": "markdown",
   "id": "9cdff695",
   "metadata": {},
   "source": [
    "### File Hashes"
   ]
  },
  {
   "cell_type": "code",
   "execution_count": 3,
   "id": "b6e643d4",
   "metadata": {},
   "outputs": [],
   "source": [
    "samples.getHashes()"
   ]
  },
  {
   "cell_type": "markdown",
   "id": "07794b7c",
   "metadata": {},
   "source": [
    "## Threat Intelligence"
   ]
  },
  {
   "cell_type": "code",
   "execution_count": 4,
   "id": "18ce972e",
   "metadata": {},
   "outputs": [
    {
     "name": "stdout",
     "output_type": "stream",
     "text": [
      "https://www.virustotal.com/api/v3/files/92730427321a1c4ccfc0d0580834daef98121efa9bb8963da332bfd6cf1fda8a\n",
      "{'harmless': 2, 'malicious': 2}\n",
      "https://www.virustotal.com/api/v3/files/3aca2a08cf296f1845d6171958ef0ffd1c8bdfc3e48bdd34a605cb1f7468213e\n",
      "{'harmless': 0, 'malicious': 0}\n",
      "https://www.virustotal.com/api/v3/files/2cf24dba5fb0a30e26e83b2ac5b9e29e1b161e5c1fa7425e73043362938b9824\n",
      "{'harmless': 4, 'malicious': 3}\n",
      "https://www.virustotal.com/api/v3/files/b457d1ccf7dc001c4093867f1da35f57b5701d92f54e8691fcd7c90b22465c07\n",
      "{'harmless': 0, 'malicious': 0}\n",
      "https://www.virustotal.com/api/v3/files/0f7b23398b3460aece2ae9ed5227f96f8e09f9681b3b1bec0dc05e1a034394dd\n",
      "{'harmless': 0, 'malicious': 0}\n"
     ]
    }
   ],
   "source": [
    "# get virus total report to json file \n",
    "samples.getVTreport() "
   ]
  },
  {
   "cell_type": "markdown",
   "id": "bf308ccf",
   "metadata": {},
   "source": [
    "## Yara Scan"
   ]
  },
  {
   "cell_type": "code",
   "execution_count": 6,
   "id": "b110e20d",
   "metadata": {},
   "outputs": [
    {
     "name": "stdout",
     "output_type": "stream",
     "text": [
      "Malware.Unknown.exe.malz\n",
      "rules/capabilities/capabilities.yar\n",
      "network_dropper\n",
      "Str_Win32_Wininet_Library\n",
      "Str_Win32_Internet_API\n",
      "unknown.exe.malz\n",
      "rules/capabilities/capabilities.yar\n",
      "network_tcp_listen\n",
      "network_tcp_socket\n",
      "network_dns\n",
      "Str_Win32_Winsock2_Library\n",
      "Str_Win32_Internet_API\n",
      "hello.txt\n",
      "rules/capabilities/capabilities.yar\n",
      "SimpleCrackMe.exe\n",
      "rules/capabilities/capabilities.yar\n",
      "cr1n63y-cr4ckm3y.exe\n",
      "rules/capabilities/capabilities.yar\n"
     ]
    }
   ],
   "source": [
    "samples.getYara(yara_rule_path='rules/capabilities')"
   ]
  },
  {
   "cell_type": "markdown",
   "id": "8eae8f68",
   "metadata": {},
   "source": [
    "## Report  "
   ]
  },
  {
   "cell_type": "code",
   "execution_count": 7,
   "id": "173f4985",
   "metadata": {},
   "outputs": [
    {
     "name": "stdout",
     "output_type": "stream",
     "text": [
      "                  File_Name                               md5  \\\n",
      "0  Malware.Unknown.exe.malz  1d8562c0adcaee734d63f7baaca02f7c   \n",
      "1          unknown.exe.malz  b9497ffb7e9c6f49823b95851ec874e3   \n",
      "2                 hello.txt  5d41402abc4b2a76b9719d911017c592   \n",
      "3         SimpleCrackMe.exe  5ca23d1110ac04a9ea1e54a1c7696065   \n",
      "4      cr1n63y-cr4ckm3y.exe  83def9b37929adc715c549f6f219197f   \n",
      "\n",
      "                                              sha256                  Dir_Path  \n",
      "0  92730427321a1c4ccfc0d0580834daef98121efa9bb896...           dropbox/malware  \n",
      "1  3aca2a08cf296f1845d6171958ef0ffd1c8bdfc3e48bdd...          dropbox/malware2  \n",
      "2  2cf24dba5fb0a30e26e83b2ac5b9e29e1b161e5c1fa742...      dropbox/real_malware  \n",
      "3  b457d1ccf7dc001c4093867f1da35f57b5701d92f54e86...           dropbox/another  \n",
      "4  0f7b23398b3460aece2ae9ed5227f96f8e09f9681b3b1b...  dropbox/cr1n63y-cr4ckm3y  \n",
      "                             md5\n",
      "1d8562c0adcaee734d63f7baaca02f7c\n",
      "b9497ffb7e9c6f49823b95851ec874e3\n",
      "5d41402abc4b2a76b9719d911017c592\n",
      "5ca23d1110ac04a9ea1e54a1c7696065\n",
      "83def9b37929adc715c549f6f219197f\n",
      "                                                          sha256\n",
      "92730427321a1c4ccfc0d0580834daef98121efa9bb8963da332bfd6cf1fda8a\n",
      "3aca2a08cf296f1845d6171958ef0ffd1c8bdfc3e48bdd34a605cb1f7468213e\n",
      "2cf24dba5fb0a30e26e83b2ac5b9e29e1b161e5c1fa7425e73043362938b9824\n",
      "b457d1ccf7dc001c4093867f1da35f57b5701d92f54e8691fcd7c90b22465c07\n",
      "0f7b23398b3460aece2ae9ed5227f96f8e09f9681b3b1bec0dc05e1a034394dd\n"
     ]
    }
   ],
   "source": [
    "\n",
    "print(samples.data)\n",
    "print(samples.data[[\"md5\"]].to_string(index=False))\n",
    "print(samples.data[[\"sha256\"]].to_string(index=False))"
   ]
  },
  {
   "cell_type": "code",
   "execution_count": null,
   "id": "77c569eb",
   "metadata": {},
   "outputs": [],
   "source": []
  }
 ],
 "metadata": {
  "kernelspec": {
   "display_name": "Python 3 (ipykernel)",
   "language": "python",
   "name": "python3"
  },
  "language_info": {
   "codemirror_mode": {
    "name": "ipython",
    "version": 3
   },
   "file_extension": ".py",
   "mimetype": "text/x-python",
   "name": "python",
   "nbconvert_exporter": "python",
   "pygments_lexer": "ipython3",
   "version": "3.9.2"
  }
 },
 "nbformat": 4,
 "nbformat_minor": 5
}
