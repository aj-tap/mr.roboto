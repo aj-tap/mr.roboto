{
 "cells": [
  {
   "cell_type": "markdown",
   "id": "96e09242",
   "metadata": {},
   "source": [
    "## Setup"
   ]
  },
  {
   "cell_type": "markdown",
   "id": "54177d05",
   "metadata": {},
   "source": [
    "### Libraries"
   ]
  },
  {
   "cell_type": "code",
   "execution_count": 7,
   "id": "cd525351",
   "metadata": {},
   "outputs": [],
   "source": [
    "from scripts import Triage "
   ]
  },
  {
   "cell_type": "markdown",
   "id": "4dcc73d1",
   "metadata": {},
   "source": [
    "### Object Declaration"
   ]
  },
  {
   "cell_type": "code",
   "execution_count": 8,
   "id": "a3b8ead5",
   "metadata": {},
   "outputs": [
    {
     "ename": "AttributeError",
     "evalue": "module 'scripts.Triage' has no attribute 'Samples'",
     "output_type": "error",
     "traceback": [
      "\u001b[0;31m---------------------------------------------------------------------------\u001b[0m",
      "\u001b[0;31mAttributeError\u001b[0m                            Traceback (most recent call last)",
      "Cell \u001b[0;32mIn [8], line 2\u001b[0m\n\u001b[1;32m      1\u001b[0m \u001b[38;5;66;03m# samples = Triage.Analysis(vt_api=\"<INSERT API KEY\")\u001b[39;00m\n\u001b[0;32m----> 2\u001b[0m samples \u001b[38;5;241m=\u001b[39m \u001b[43mTriage\u001b[49m\u001b[38;5;241;43m.\u001b[39;49m\u001b[43mSamples\u001b[49m(vt_api\u001b[38;5;241m=\u001b[39m\u001b[38;5;124m\"\u001b[39m\u001b[38;5;124mf3dd29d283e7551ba7862ae5635db2d1237f3523d384305cfd00c15b55543b57\u001b[39m\u001b[38;5;124m\"\u001b[39m)\n\u001b[1;32m      3\u001b[0m samples\u001b[38;5;241m.\u001b[39mgetFiles()\n",
      "\u001b[0;31mAttributeError\u001b[0m: module 'scripts.Triage' has no attribute 'Samples'"
     ]
    }
   ],
   "source": [
    "# samples = Triage.Analysis(vt_api=\"<INSERT API KEY\")\n",
    "samples = Triage.Samples(vt_api=\"f3dd29d283e7551ba7862ae5635db2d1237f3523d384305cfd00c15b55543b57\")\n",
    "samples.getFiles()"
   ]
  },
  {
   "cell_type": "markdown",
   "id": "af5a6e39",
   "metadata": {},
   "source": [
    "### File Hashes"
   ]
  },
  {
   "cell_type": "code",
   "execution_count": 4,
   "id": "e3dd6904",
   "metadata": {},
   "outputs": [],
   "source": [
    "samples.getHashes()"
   ]
  },
  {
   "cell_type": "markdown",
   "id": "14a24a2e",
   "metadata": {},
   "source": [
    "## Threat Intelligence"
   ]
  },
  {
   "cell_type": "code",
   "execution_count": null,
   "id": "fffcb50b",
   "metadata": {},
   "outputs": [],
   "source": [
    "# get virus total report to json file \n",
    "obj.getVTreport() "
   ]
  },
  {
   "cell_type": "markdown",
   "id": "60be4862",
   "metadata": {},
   "source": [
    "## Report  "
   ]
  },
  {
   "cell_type": "code",
   "execution_count": 6,
   "id": "4790717b",
   "metadata": {},
   "outputs": [
    {
     "name": "stdout",
     "output_type": "stream",
     "text": [
      "              File_Name                               md5  \\\n",
      "0     SimpleCrackMe.exe  5ca23d1110ac04a9ea1e54a1c7696065   \n",
      "1  cr1n63y-cr4ckm3y.exe  83def9b37929adc715c549f6f219197f   \n",
      "\n",
      "                                              sha256                  Dir_Path  \n",
      "0  b457d1ccf7dc001c4093867f1da35f57b5701d92f54e86...           dropbox/another  \n",
      "1  0f7b23398b3460aece2ae9ed5227f96f8e09f9681b3b1b...  dropbox/cr1n63y-cr4ckm3y  \n",
      "                             md5\n",
      "5ca23d1110ac04a9ea1e54a1c7696065\n",
      "83def9b37929adc715c549f6f219197f\n",
      "                                                          sha256\n",
      "b457d1ccf7dc001c4093867f1da35f57b5701d92f54e8691fcd7c90b22465c07\n",
      "0f7b23398b3460aece2ae9ed5227f96f8e09f9681b3b1bec0dc05e1a034394dd\n"
     ]
    }
   ],
   "source": [
    "\n",
    "print(samples.data)\n",
    "print(samples.data[[\"md5\"]].to_string(index=False))\n",
    "print(samples.data[[\"sha256\"]].to_string(index=False))"
   ]
  },
  {
   "cell_type": "code",
   "execution_count": null,
   "id": "99a43dbe",
   "metadata": {},
   "outputs": [],
   "source": []
  }
 ],
 "metadata": {
  "kernelspec": {
   "display_name": "Python 3 (ipykernel)",
   "language": "python",
   "name": "python3"
  },
  "language_info": {
   "codemirror_mode": {
    "name": "ipython",
    "version": 3
   },
   "file_extension": ".py",
   "mimetype": "text/x-python",
   "name": "python",
   "nbconvert_exporter": "python",
   "pygments_lexer": "ipython3",
   "version": "3.9.2"
  }
 },
 "nbformat": 4,
 "nbformat_minor": 5
}
